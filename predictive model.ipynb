{
 "cells": [
  {
   "cell_type": "raw",
   "metadata": {},
   "source": [
    "#Importing libraries"
   ]
  },
  {
   "cell_type": "code",
   "execution_count": 1,
   "metadata": {},
   "outputs": [],
   "source": [
    "import numpy as np\n",
    "import matplotlib.pyplot as plt\n",
    "import seaborn as sns\n",
    "import pandas as pd\n",
    "import numpy as np\n",
    "import pyttsx3\n",
    "from pandas.plotting import scatter_matrix\n",
    "import math\n",
    "%matplotlib inline\n",
    "from decimal import Decimal"
   ]
  },
  {
   "cell_type": "code",
   "execution_count": 2,
   "metadata": {},
   "outputs": [],
   "source": [
    "# reading excel document\n",
    "df = pd.read_excel(\"C:/Users/HP/Videos/python/image_ml/Raw_data.xlsx\")\n",
    "\n",
    "#drop 3V AND ±\n",
    "df.drop(df.iloc[:, 7:], inplace = True, axis = 1) "
   ]
  },
  {
   "cell_type": "code",
   "execution_count": 3,
   "metadata": {},
   "outputs": [
    {
     "data": {
      "text/html": [
       "<div>\n",
       "<style scoped>\n",
       "    .dataframe tbody tr th:only-of-type {\n",
       "        vertical-align: middle;\n",
       "    }\n",
       "\n",
       "    .dataframe tbody tr th {\n",
       "        vertical-align: top;\n",
       "    }\n",
       "\n",
       "    .dataframe thead th {\n",
       "        text-align: right;\n",
       "    }\n",
       "</style>\n",
       "<table border=\"1\" class=\"dataframe\">\n",
       "  <thead>\n",
       "    <tr style=\"text-align: right;\">\n",
       "      <th></th>\n",
       "      <th>RACE</th>\n",
       "      <th>SEX</th>\n",
       "      <th>AGE RANGE</th>\n",
       "      <th>PARTICIPANTS</th>\n",
       "      <th>3V SIZE</th>\n",
       "      <th>THIRD VENTRICULAR SIZE</th>\n",
       "      <th>±</th>\n",
       "    </tr>\n",
       "  </thead>\n",
       "  <tbody>\n",
       "    <tr>\n",
       "      <th>0</th>\n",
       "      <td>AFRICAN</td>\n",
       "      <td>FEMALE</td>\n",
       "      <td>&lt;= 20</td>\n",
       "      <td>30</td>\n",
       "      <td>3.51±0.78</td>\n",
       "      <td>3.51</td>\n",
       "      <td>0.78</td>\n",
       "    </tr>\n",
       "    <tr>\n",
       "      <th>1</th>\n",
       "      <td>AFRICAN</td>\n",
       "      <td>FEMALE</td>\n",
       "      <td>21-29</td>\n",
       "      <td>44</td>\n",
       "      <td>3.85±0.86</td>\n",
       "      <td>3.85</td>\n",
       "      <td>0.86</td>\n",
       "    </tr>\n",
       "    <tr>\n",
       "      <th>2</th>\n",
       "      <td>AFRICAN</td>\n",
       "      <td>FEMALE</td>\n",
       "      <td>30-39</td>\n",
       "      <td>41</td>\n",
       "      <td>3.92±0.77</td>\n",
       "      <td>3.92</td>\n",
       "      <td>0.77</td>\n",
       "    </tr>\n",
       "    <tr>\n",
       "      <th>3</th>\n",
       "      <td>AFRICAN</td>\n",
       "      <td>FEMALE</td>\n",
       "      <td>40-49</td>\n",
       "      <td>32</td>\n",
       "      <td>3.94±0.79</td>\n",
       "      <td>3.94</td>\n",
       "      <td>0.79</td>\n",
       "    </tr>\n",
       "    <tr>\n",
       "      <th>4</th>\n",
       "      <td>AFRICAN</td>\n",
       "      <td>FEMALE</td>\n",
       "      <td>50-59</td>\n",
       "      <td>18</td>\n",
       "      <td>3.99±0.73</td>\n",
       "      <td>3.99</td>\n",
       "      <td>0.73</td>\n",
       "    </tr>\n",
       "    <tr>\n",
       "      <th>5</th>\n",
       "      <td>AFRICAN</td>\n",
       "      <td>FEMALE</td>\n",
       "      <td>&gt;=60</td>\n",
       "      <td>4</td>\n",
       "      <td>5.04±2.38</td>\n",
       "      <td>5.04</td>\n",
       "      <td>2.38</td>\n",
       "    </tr>\n",
       "    <tr>\n",
       "      <th>6</th>\n",
       "      <td>AFRICAN</td>\n",
       "      <td>MALE</td>\n",
       "      <td>&lt;= 21</td>\n",
       "      <td>41</td>\n",
       "      <td>3.49±0.87</td>\n",
       "      <td>3.49</td>\n",
       "      <td>0.87</td>\n",
       "    </tr>\n",
       "    <tr>\n",
       "      <th>7</th>\n",
       "      <td>AFRICAN</td>\n",
       "      <td>MALE</td>\n",
       "      <td>21-30</td>\n",
       "      <td>56</td>\n",
       "      <td>3.50±1.02</td>\n",
       "      <td>3.50</td>\n",
       "      <td>1.02</td>\n",
       "    </tr>\n",
       "    <tr>\n",
       "      <th>8</th>\n",
       "      <td>AFRICAN</td>\n",
       "      <td>MALE</td>\n",
       "      <td>30-40</td>\n",
       "      <td>77</td>\n",
       "      <td>3.96±0.86</td>\n",
       "      <td>3.96</td>\n",
       "      <td>0.86</td>\n",
       "    </tr>\n",
       "    <tr>\n",
       "      <th>9</th>\n",
       "      <td>AFRICAN</td>\n",
       "      <td>MALE</td>\n",
       "      <td>40-50</td>\n",
       "      <td>60</td>\n",
       "      <td>4.98±0.98</td>\n",
       "      <td>4.98</td>\n",
       "      <td>0.98</td>\n",
       "    </tr>\n",
       "    <tr>\n",
       "      <th>10</th>\n",
       "      <td>AFRICAN</td>\n",
       "      <td>MALE</td>\n",
       "      <td>50-60</td>\n",
       "      <td>61</td>\n",
       "      <td>4.00±1.17</td>\n",
       "      <td>4.00</td>\n",
       "      <td>1.17</td>\n",
       "    </tr>\n",
       "    <tr>\n",
       "      <th>11</th>\n",
       "      <td>AFRICAN</td>\n",
       "      <td>MALE</td>\n",
       "      <td>&gt;=61</td>\n",
       "      <td>24</td>\n",
       "      <td>6.11±2.18</td>\n",
       "      <td>6.11</td>\n",
       "      <td>2.18</td>\n",
       "    </tr>\n",
       "    <tr>\n",
       "      <th>12</th>\n",
       "      <td>INDIAN</td>\n",
       "      <td>FEMALE</td>\n",
       "      <td>&lt;=20</td>\n",
       "      <td>2</td>\n",
       "      <td>2.25±1.06</td>\n",
       "      <td>2.25</td>\n",
       "      <td>1.06</td>\n",
       "    </tr>\n",
       "    <tr>\n",
       "      <th>13</th>\n",
       "      <td>INDIAN</td>\n",
       "      <td>FEMALE</td>\n",
       "      <td>21-40</td>\n",
       "      <td>20</td>\n",
       "      <td>3.44±1.00</td>\n",
       "      <td>3.44</td>\n",
       "      <td>1.00</td>\n",
       "    </tr>\n",
       "    <tr>\n",
       "      <th>14</th>\n",
       "      <td>INDIAN</td>\n",
       "      <td>FEMALE</td>\n",
       "      <td>41-60</td>\n",
       "      <td>15</td>\n",
       "      <td>5.11±2.46</td>\n",
       "      <td>5.11</td>\n",
       "      <td>2.46</td>\n",
       "    </tr>\n",
       "    <tr>\n",
       "      <th>15</th>\n",
       "      <td>INDIAN</td>\n",
       "      <td>FEMALE</td>\n",
       "      <td>&gt;=60</td>\n",
       "      <td>9</td>\n",
       "      <td>5.58±2.31</td>\n",
       "      <td>5.58</td>\n",
       "      <td>2.31</td>\n",
       "    </tr>\n",
       "    <tr>\n",
       "      <th>16</th>\n",
       "      <td>INDIAN</td>\n",
       "      <td>MALE</td>\n",
       "      <td>&lt;=21</td>\n",
       "      <td>12</td>\n",
       "      <td>2.93±0.60</td>\n",
       "      <td>2.93</td>\n",
       "      <td>0.60</td>\n",
       "    </tr>\n",
       "    <tr>\n",
       "      <th>17</th>\n",
       "      <td>INDIAN</td>\n",
       "      <td>MALE</td>\n",
       "      <td>21-41</td>\n",
       "      <td>13</td>\n",
       "      <td>4.09±1.49</td>\n",
       "      <td>4.09</td>\n",
       "      <td>1.49</td>\n",
       "    </tr>\n",
       "    <tr>\n",
       "      <th>18</th>\n",
       "      <td>INDIAN</td>\n",
       "      <td>MALE</td>\n",
       "      <td>41-61</td>\n",
       "      <td>14</td>\n",
       "      <td>5.68±2.10</td>\n",
       "      <td>5.68</td>\n",
       "      <td>2.10</td>\n",
       "    </tr>\n",
       "    <tr>\n",
       "      <th>19</th>\n",
       "      <td>INDIAN</td>\n",
       "      <td>MALE</td>\n",
       "      <td>&gt;=61</td>\n",
       "      <td>15</td>\n",
       "      <td>7.21±2.18</td>\n",
       "      <td>7.21</td>\n",
       "      <td>2.18</td>\n",
       "    </tr>\n",
       "  </tbody>\n",
       "</table>\n",
       "</div>"
      ],
      "text/plain": [
       "       RACE     SEX AGE RANGE  PARTICIPANTS    3V SIZE  \\\n",
       "0   AFRICAN  FEMALE     <= 20            30  3.51±0.78   \n",
       "1   AFRICAN  FEMALE     21-29            44  3.85±0.86   \n",
       "2   AFRICAN  FEMALE     30-39            41  3.92±0.77   \n",
       "3   AFRICAN  FEMALE     40-49            32  3.94±0.79   \n",
       "4   AFRICAN  FEMALE     50-59            18  3.99±0.73   \n",
       "5   AFRICAN  FEMALE      >=60             4  5.04±2.38   \n",
       "6   AFRICAN    MALE     <= 21            41  3.49±0.87   \n",
       "7   AFRICAN    MALE     21-30            56  3.50±1.02   \n",
       "8   AFRICAN    MALE     30-40            77  3.96±0.86   \n",
       "9   AFRICAN    MALE     40-50            60  4.98±0.98   \n",
       "10  AFRICAN    MALE     50-60            61  4.00±1.17   \n",
       "11  AFRICAN    MALE      >=61            24  6.11±2.18   \n",
       "12   INDIAN  FEMALE      <=20             2  2.25±1.06   \n",
       "13   INDIAN  FEMALE     21-40            20  3.44±1.00   \n",
       "14   INDIAN  FEMALE     41-60            15  5.11±2.46   \n",
       "15   INDIAN  FEMALE      >=60             9  5.58±2.31   \n",
       "16   INDIAN    MALE      <=21            12  2.93±0.60   \n",
       "17   INDIAN    MALE     21-41            13  4.09±1.49   \n",
       "18   INDIAN    MALE     41-61            14  5.68±2.10   \n",
       "19   INDIAN    MALE      >=61            15  7.21±2.18   \n",
       "\n",
       "    THIRD VENTRICULAR SIZE     ±  \n",
       "0                     3.51  0.78  \n",
       "1                     3.85  0.86  \n",
       "2                     3.92  0.77  \n",
       "3                     3.94  0.79  \n",
       "4                     3.99  0.73  \n",
       "5                     5.04  2.38  \n",
       "6                     3.49  0.87  \n",
       "7                     3.50  1.02  \n",
       "8                     3.96  0.86  \n",
       "9                     4.98  0.98  \n",
       "10                    4.00  1.17  \n",
       "11                    6.11  2.18  \n",
       "12                    2.25  1.06  \n",
       "13                    3.44  1.00  \n",
       "14                    5.11  2.46  \n",
       "15                    5.58  2.31  \n",
       "16                    2.93  0.60  \n",
       "17                    4.09  1.49  \n",
       "18                    5.68  2.10  \n",
       "19                    7.21  2.18  "
      ]
     },
     "execution_count": 3,
     "metadata": {},
     "output_type": "execute_result"
    }
   ],
   "source": [
    "#display df\n",
    "df"
   ]
  },
  {
   "cell_type": "code",
   "execution_count": 4,
   "metadata": {
    "slideshow": {
     "slide_type": "slide"
    }
   },
   "outputs": [
    {
     "data": {
      "text/html": [
       "<div>\n",
       "<style scoped>\n",
       "    .dataframe tbody tr th:only-of-type {\n",
       "        vertical-align: middle;\n",
       "    }\n",
       "\n",
       "    .dataframe tbody tr th {\n",
       "        vertical-align: top;\n",
       "    }\n",
       "\n",
       "    .dataframe thead th {\n",
       "        text-align: right;\n",
       "    }\n",
       "</style>\n",
       "<table border=\"1\" class=\"dataframe\">\n",
       "  <thead>\n",
       "    <tr style=\"text-align: right;\">\n",
       "      <th></th>\n",
       "      <th>RACE</th>\n",
       "      <th>SEX</th>\n",
       "      <th>AGE RANGE</th>\n",
       "      <th>PARTICIPANTS</th>\n",
       "      <th>3V SIZE</th>\n",
       "      <th>THIRD VENTRICULAR SIZE</th>\n",
       "      <th>±</th>\n",
       "    </tr>\n",
       "  </thead>\n",
       "  <tbody>\n",
       "    <tr>\n",
       "      <th>0</th>\n",
       "      <td>AFRICAN</td>\n",
       "      <td>FEMALE</td>\n",
       "      <td>&lt;= 20</td>\n",
       "      <td>30</td>\n",
       "      <td>3.51±0.78</td>\n",
       "      <td>3.51</td>\n",
       "      <td>0.78</td>\n",
       "    </tr>\n",
       "    <tr>\n",
       "      <th>1</th>\n",
       "      <td>AFRICAN</td>\n",
       "      <td>FEMALE</td>\n",
       "      <td>21-29</td>\n",
       "      <td>44</td>\n",
       "      <td>3.85±0.86</td>\n",
       "      <td>3.85</td>\n",
       "      <td>0.86</td>\n",
       "    </tr>\n",
       "    <tr>\n",
       "      <th>2</th>\n",
       "      <td>AFRICAN</td>\n",
       "      <td>FEMALE</td>\n",
       "      <td>30-39</td>\n",
       "      <td>41</td>\n",
       "      <td>3.92±0.77</td>\n",
       "      <td>3.92</td>\n",
       "      <td>0.77</td>\n",
       "    </tr>\n",
       "    <tr>\n",
       "      <th>3</th>\n",
       "      <td>AFRICAN</td>\n",
       "      <td>FEMALE</td>\n",
       "      <td>40-49</td>\n",
       "      <td>32</td>\n",
       "      <td>3.94±0.79</td>\n",
       "      <td>3.94</td>\n",
       "      <td>0.79</td>\n",
       "    </tr>\n",
       "    <tr>\n",
       "      <th>4</th>\n",
       "      <td>AFRICAN</td>\n",
       "      <td>FEMALE</td>\n",
       "      <td>50-59</td>\n",
       "      <td>18</td>\n",
       "      <td>3.99±0.73</td>\n",
       "      <td>3.99</td>\n",
       "      <td>0.73</td>\n",
       "    </tr>\n",
       "    <tr>\n",
       "      <th>5</th>\n",
       "      <td>AFRICAN</td>\n",
       "      <td>FEMALE</td>\n",
       "      <td>&gt;=60</td>\n",
       "      <td>4</td>\n",
       "      <td>5.04±2.38</td>\n",
       "      <td>5.04</td>\n",
       "      <td>2.38</td>\n",
       "    </tr>\n",
       "    <tr>\n",
       "      <th>6</th>\n",
       "      <td>AFRICAN</td>\n",
       "      <td>MALE</td>\n",
       "      <td>&lt;= 21</td>\n",
       "      <td>41</td>\n",
       "      <td>3.49±0.87</td>\n",
       "      <td>3.49</td>\n",
       "      <td>0.87</td>\n",
       "    </tr>\n",
       "    <tr>\n",
       "      <th>7</th>\n",
       "      <td>AFRICAN</td>\n",
       "      <td>MALE</td>\n",
       "      <td>21-30</td>\n",
       "      <td>56</td>\n",
       "      <td>3.50±1.02</td>\n",
       "      <td>3.50</td>\n",
       "      <td>1.02</td>\n",
       "    </tr>\n",
       "    <tr>\n",
       "      <th>8</th>\n",
       "      <td>AFRICAN</td>\n",
       "      <td>MALE</td>\n",
       "      <td>30-40</td>\n",
       "      <td>77</td>\n",
       "      <td>3.96±0.86</td>\n",
       "      <td>3.96</td>\n",
       "      <td>0.86</td>\n",
       "    </tr>\n",
       "    <tr>\n",
       "      <th>9</th>\n",
       "      <td>AFRICAN</td>\n",
       "      <td>MALE</td>\n",
       "      <td>40-50</td>\n",
       "      <td>60</td>\n",
       "      <td>4.98±0.98</td>\n",
       "      <td>4.98</td>\n",
       "      <td>0.98</td>\n",
       "    </tr>\n",
       "    <tr>\n",
       "      <th>10</th>\n",
       "      <td>AFRICAN</td>\n",
       "      <td>MALE</td>\n",
       "      <td>50-60</td>\n",
       "      <td>61</td>\n",
       "      <td>4.00±1.17</td>\n",
       "      <td>4.00</td>\n",
       "      <td>1.17</td>\n",
       "    </tr>\n",
       "    <tr>\n",
       "      <th>11</th>\n",
       "      <td>AFRICAN</td>\n",
       "      <td>MALE</td>\n",
       "      <td>&gt;=61</td>\n",
       "      <td>24</td>\n",
       "      <td>6.11±2.18</td>\n",
       "      <td>6.11</td>\n",
       "      <td>2.18</td>\n",
       "    </tr>\n",
       "    <tr>\n",
       "      <th>12</th>\n",
       "      <td>INDIAN</td>\n",
       "      <td>FEMALE</td>\n",
       "      <td>&lt;=20</td>\n",
       "      <td>2</td>\n",
       "      <td>2.25±1.06</td>\n",
       "      <td>2.25</td>\n",
       "      <td>1.06</td>\n",
       "    </tr>\n",
       "    <tr>\n",
       "      <th>13</th>\n",
       "      <td>INDIAN</td>\n",
       "      <td>FEMALE</td>\n",
       "      <td>21-40</td>\n",
       "      <td>20</td>\n",
       "      <td>3.44±1.00</td>\n",
       "      <td>3.44</td>\n",
       "      <td>1.00</td>\n",
       "    </tr>\n",
       "    <tr>\n",
       "      <th>14</th>\n",
       "      <td>INDIAN</td>\n",
       "      <td>FEMALE</td>\n",
       "      <td>41-60</td>\n",
       "      <td>15</td>\n",
       "      <td>5.11±2.46</td>\n",
       "      <td>5.11</td>\n",
       "      <td>2.46</td>\n",
       "    </tr>\n",
       "    <tr>\n",
       "      <th>15</th>\n",
       "      <td>INDIAN</td>\n",
       "      <td>FEMALE</td>\n",
       "      <td>&gt;=60</td>\n",
       "      <td>9</td>\n",
       "      <td>5.58±2.31</td>\n",
       "      <td>5.58</td>\n",
       "      <td>2.31</td>\n",
       "    </tr>\n",
       "    <tr>\n",
       "      <th>16</th>\n",
       "      <td>INDIAN</td>\n",
       "      <td>MALE</td>\n",
       "      <td>&lt;=21</td>\n",
       "      <td>12</td>\n",
       "      <td>2.93±0.60</td>\n",
       "      <td>2.93</td>\n",
       "      <td>0.60</td>\n",
       "    </tr>\n",
       "    <tr>\n",
       "      <th>17</th>\n",
       "      <td>INDIAN</td>\n",
       "      <td>MALE</td>\n",
       "      <td>21-41</td>\n",
       "      <td>13</td>\n",
       "      <td>4.09±1.49</td>\n",
       "      <td>4.09</td>\n",
       "      <td>1.49</td>\n",
       "    </tr>\n",
       "    <tr>\n",
       "      <th>18</th>\n",
       "      <td>INDIAN</td>\n",
       "      <td>MALE</td>\n",
       "      <td>41-61</td>\n",
       "      <td>14</td>\n",
       "      <td>5.68±2.10</td>\n",
       "      <td>5.68</td>\n",
       "      <td>2.10</td>\n",
       "    </tr>\n",
       "    <tr>\n",
       "      <th>19</th>\n",
       "      <td>INDIAN</td>\n",
       "      <td>MALE</td>\n",
       "      <td>&gt;=61</td>\n",
       "      <td>15</td>\n",
       "      <td>7.21±2.18</td>\n",
       "      <td>7.21</td>\n",
       "      <td>2.18</td>\n",
       "    </tr>\n",
       "  </tbody>\n",
       "</table>\n",
       "</div>"
      ],
      "text/plain": [
       "       RACE     SEX AGE RANGE  PARTICIPANTS    3V SIZE  \\\n",
       "0   AFRICAN  FEMALE     <= 20            30  3.51±0.78   \n",
       "1   AFRICAN  FEMALE     21-29            44  3.85±0.86   \n",
       "2   AFRICAN  FEMALE     30-39            41  3.92±0.77   \n",
       "3   AFRICAN  FEMALE     40-49            32  3.94±0.79   \n",
       "4   AFRICAN  FEMALE     50-59            18  3.99±0.73   \n",
       "5   AFRICAN  FEMALE      >=60             4  5.04±2.38   \n",
       "6   AFRICAN    MALE     <= 21            41  3.49±0.87   \n",
       "7   AFRICAN    MALE     21-30            56  3.50±1.02   \n",
       "8   AFRICAN    MALE     30-40            77  3.96±0.86   \n",
       "9   AFRICAN    MALE     40-50            60  4.98±0.98   \n",
       "10  AFRICAN    MALE     50-60            61  4.00±1.17   \n",
       "11  AFRICAN    MALE      >=61            24  6.11±2.18   \n",
       "12   INDIAN  FEMALE      <=20             2  2.25±1.06   \n",
       "13   INDIAN  FEMALE     21-40            20  3.44±1.00   \n",
       "14   INDIAN  FEMALE     41-60            15  5.11±2.46   \n",
       "15   INDIAN  FEMALE      >=60             9  5.58±2.31   \n",
       "16   INDIAN    MALE      <=21            12  2.93±0.60   \n",
       "17   INDIAN    MALE     21-41            13  4.09±1.49   \n",
       "18   INDIAN    MALE     41-61            14  5.68±2.10   \n",
       "19   INDIAN    MALE      >=61            15  7.21±2.18   \n",
       "\n",
       "    THIRD VENTRICULAR SIZE     ±  \n",
       "0                     3.51  0.78  \n",
       "1                     3.85  0.86  \n",
       "2                     3.92  0.77  \n",
       "3                     3.94  0.79  \n",
       "4                     3.99  0.73  \n",
       "5                     5.04  2.38  \n",
       "6                     3.49  0.87  \n",
       "7                     3.50  1.02  \n",
       "8                     3.96  0.86  \n",
       "9                     4.98  0.98  \n",
       "10                    4.00  1.17  \n",
       "11                    6.11  2.18  \n",
       "12                    2.25  1.06  \n",
       "13                    3.44  1.00  \n",
       "14                    5.11  2.46  \n",
       "15                    5.58  2.31  \n",
       "16                    2.93  0.60  \n",
       "17                    4.09  1.49  \n",
       "18                    5.68  2.10  \n",
       "19                    7.21  2.18  "
      ]
     },
     "execution_count": 4,
     "metadata": {},
     "output_type": "execute_result"
    }
   ],
   "source": [
    "#TRANSFORM SEX\n",
    "def transformSEX(row):\n",
    "    if(row.SEX == 'FEMALE'):\n",
    "        return 1\n",
    "    else:\n",
    "        return 0\n",
    "    \n",
    "#TRANSFORM RACE\n",
    "def transformRACE(row):\n",
    "    if(row.RACE == 'AFRICAN'):\n",
    "        return 1\n",
    "    else:\n",
    "        return 0\n",
    "\n",
    "#BOTH SEX AND RACE HAS BEEN REPLACED BY T-SEX AND T-RACE   \n",
    "#df[\"Sex\"] = df.apply(lambda row: transformSEX(row),axis=1)\n",
    "#df[\"Race\"] = df.apply(lambda row: transformRACE(row),axis=1)\n",
    "\n",
    "#AVARAGE 3RD VENTRICULAR PARAMETER\n",
    "#df['VENTRICULAR PARAMETER '] =  ((df['MIN 3V SIZE']+df['MAX 3V SIZE'])/2)\n",
    "\n",
    "#DISPLAY TABLE\n",
    "df"
   ]
  },
  {
   "cell_type": "code",
   "execution_count": 5,
   "metadata": {},
   "outputs": [],
   "source": [
    "#DROP SEX,RACE,MIN 3V SIZE AND MAX 3V SIZE \n",
    "#df = df.drop(['RACE','SEX'], axis = 1)"
   ]
  },
  {
   "cell_type": "code",
   "execution_count": 6,
   "metadata": {},
   "outputs": [
    {
     "data": {
      "text/html": [
       "<div>\n",
       "<style scoped>\n",
       "    .dataframe tbody tr th:only-of-type {\n",
       "        vertical-align: middle;\n",
       "    }\n",
       "\n",
       "    .dataframe tbody tr th {\n",
       "        vertical-align: top;\n",
       "    }\n",
       "\n",
       "    .dataframe thead th {\n",
       "        text-align: right;\n",
       "    }\n",
       "</style>\n",
       "<table border=\"1\" class=\"dataframe\">\n",
       "  <thead>\n",
       "    <tr style=\"text-align: right;\">\n",
       "      <th></th>\n",
       "      <th>RACE</th>\n",
       "      <th>SEX</th>\n",
       "      <th>AGE RANGE</th>\n",
       "      <th>PARTICIPANTS</th>\n",
       "      <th>3V SIZE</th>\n",
       "      <th>THIRD VENTRICULAR SIZE</th>\n",
       "      <th>±</th>\n",
       "    </tr>\n",
       "  </thead>\n",
       "  <tbody>\n",
       "    <tr>\n",
       "      <th>0</th>\n",
       "      <td>AFRICAN</td>\n",
       "      <td>FEMALE</td>\n",
       "      <td>&lt;= 20</td>\n",
       "      <td>30</td>\n",
       "      <td>3.51±0.78</td>\n",
       "      <td>3.51</td>\n",
       "      <td>0.78</td>\n",
       "    </tr>\n",
       "    <tr>\n",
       "      <th>1</th>\n",
       "      <td>AFRICAN</td>\n",
       "      <td>FEMALE</td>\n",
       "      <td>21-29</td>\n",
       "      <td>44</td>\n",
       "      <td>3.85±0.86</td>\n",
       "      <td>3.85</td>\n",
       "      <td>0.86</td>\n",
       "    </tr>\n",
       "    <tr>\n",
       "      <th>2</th>\n",
       "      <td>AFRICAN</td>\n",
       "      <td>FEMALE</td>\n",
       "      <td>30-39</td>\n",
       "      <td>41</td>\n",
       "      <td>3.92±0.77</td>\n",
       "      <td>3.92</td>\n",
       "      <td>0.77</td>\n",
       "    </tr>\n",
       "    <tr>\n",
       "      <th>3</th>\n",
       "      <td>AFRICAN</td>\n",
       "      <td>FEMALE</td>\n",
       "      <td>40-49</td>\n",
       "      <td>32</td>\n",
       "      <td>3.94±0.79</td>\n",
       "      <td>3.94</td>\n",
       "      <td>0.79</td>\n",
       "    </tr>\n",
       "    <tr>\n",
       "      <th>4</th>\n",
       "      <td>AFRICAN</td>\n",
       "      <td>FEMALE</td>\n",
       "      <td>50-59</td>\n",
       "      <td>18</td>\n",
       "      <td>3.99±0.73</td>\n",
       "      <td>3.99</td>\n",
       "      <td>0.73</td>\n",
       "    </tr>\n",
       "    <tr>\n",
       "      <th>5</th>\n",
       "      <td>AFRICAN</td>\n",
       "      <td>FEMALE</td>\n",
       "      <td>&gt;=60</td>\n",
       "      <td>4</td>\n",
       "      <td>5.04±2.38</td>\n",
       "      <td>5.04</td>\n",
       "      <td>2.38</td>\n",
       "    </tr>\n",
       "    <tr>\n",
       "      <th>6</th>\n",
       "      <td>AFRICAN</td>\n",
       "      <td>MALE</td>\n",
       "      <td>&lt;= 21</td>\n",
       "      <td>41</td>\n",
       "      <td>3.49±0.87</td>\n",
       "      <td>3.49</td>\n",
       "      <td>0.87</td>\n",
       "    </tr>\n",
       "    <tr>\n",
       "      <th>7</th>\n",
       "      <td>AFRICAN</td>\n",
       "      <td>MALE</td>\n",
       "      <td>21-30</td>\n",
       "      <td>56</td>\n",
       "      <td>3.50±1.02</td>\n",
       "      <td>3.50</td>\n",
       "      <td>1.02</td>\n",
       "    </tr>\n",
       "    <tr>\n",
       "      <th>8</th>\n",
       "      <td>AFRICAN</td>\n",
       "      <td>MALE</td>\n",
       "      <td>30-40</td>\n",
       "      <td>77</td>\n",
       "      <td>3.96±0.86</td>\n",
       "      <td>3.96</td>\n",
       "      <td>0.86</td>\n",
       "    </tr>\n",
       "    <tr>\n",
       "      <th>9</th>\n",
       "      <td>AFRICAN</td>\n",
       "      <td>MALE</td>\n",
       "      <td>40-50</td>\n",
       "      <td>60</td>\n",
       "      <td>4.98±0.98</td>\n",
       "      <td>4.98</td>\n",
       "      <td>0.98</td>\n",
       "    </tr>\n",
       "    <tr>\n",
       "      <th>10</th>\n",
       "      <td>AFRICAN</td>\n",
       "      <td>MALE</td>\n",
       "      <td>50-60</td>\n",
       "      <td>61</td>\n",
       "      <td>4.00±1.17</td>\n",
       "      <td>4.00</td>\n",
       "      <td>1.17</td>\n",
       "    </tr>\n",
       "    <tr>\n",
       "      <th>11</th>\n",
       "      <td>AFRICAN</td>\n",
       "      <td>MALE</td>\n",
       "      <td>&gt;=61</td>\n",
       "      <td>24</td>\n",
       "      <td>6.11±2.18</td>\n",
       "      <td>6.11</td>\n",
       "      <td>2.18</td>\n",
       "    </tr>\n",
       "    <tr>\n",
       "      <th>12</th>\n",
       "      <td>INDIAN</td>\n",
       "      <td>FEMALE</td>\n",
       "      <td>&lt;=20</td>\n",
       "      <td>2</td>\n",
       "      <td>2.25±1.06</td>\n",
       "      <td>2.25</td>\n",
       "      <td>1.06</td>\n",
       "    </tr>\n",
       "    <tr>\n",
       "      <th>13</th>\n",
       "      <td>INDIAN</td>\n",
       "      <td>FEMALE</td>\n",
       "      <td>21-40</td>\n",
       "      <td>20</td>\n",
       "      <td>3.44±1.00</td>\n",
       "      <td>3.44</td>\n",
       "      <td>1.00</td>\n",
       "    </tr>\n",
       "    <tr>\n",
       "      <th>14</th>\n",
       "      <td>INDIAN</td>\n",
       "      <td>FEMALE</td>\n",
       "      <td>41-60</td>\n",
       "      <td>15</td>\n",
       "      <td>5.11±2.46</td>\n",
       "      <td>5.11</td>\n",
       "      <td>2.46</td>\n",
       "    </tr>\n",
       "    <tr>\n",
       "      <th>15</th>\n",
       "      <td>INDIAN</td>\n",
       "      <td>FEMALE</td>\n",
       "      <td>&gt;=60</td>\n",
       "      <td>9</td>\n",
       "      <td>5.58±2.31</td>\n",
       "      <td>5.58</td>\n",
       "      <td>2.31</td>\n",
       "    </tr>\n",
       "    <tr>\n",
       "      <th>16</th>\n",
       "      <td>INDIAN</td>\n",
       "      <td>MALE</td>\n",
       "      <td>&lt;=21</td>\n",
       "      <td>12</td>\n",
       "      <td>2.93±0.60</td>\n",
       "      <td>2.93</td>\n",
       "      <td>0.60</td>\n",
       "    </tr>\n",
       "    <tr>\n",
       "      <th>17</th>\n",
       "      <td>INDIAN</td>\n",
       "      <td>MALE</td>\n",
       "      <td>21-41</td>\n",
       "      <td>13</td>\n",
       "      <td>4.09±1.49</td>\n",
       "      <td>4.09</td>\n",
       "      <td>1.49</td>\n",
       "    </tr>\n",
       "    <tr>\n",
       "      <th>18</th>\n",
       "      <td>INDIAN</td>\n",
       "      <td>MALE</td>\n",
       "      <td>41-61</td>\n",
       "      <td>14</td>\n",
       "      <td>5.68±2.10</td>\n",
       "      <td>5.68</td>\n",
       "      <td>2.10</td>\n",
       "    </tr>\n",
       "    <tr>\n",
       "      <th>19</th>\n",
       "      <td>INDIAN</td>\n",
       "      <td>MALE</td>\n",
       "      <td>&gt;=61</td>\n",
       "      <td>15</td>\n",
       "      <td>7.21±2.18</td>\n",
       "      <td>7.21</td>\n",
       "      <td>2.18</td>\n",
       "    </tr>\n",
       "  </tbody>\n",
       "</table>\n",
       "</div>"
      ],
      "text/plain": [
       "       RACE     SEX AGE RANGE  PARTICIPANTS    3V SIZE  \\\n",
       "0   AFRICAN  FEMALE     <= 20            30  3.51±0.78   \n",
       "1   AFRICAN  FEMALE     21-29            44  3.85±0.86   \n",
       "2   AFRICAN  FEMALE     30-39            41  3.92±0.77   \n",
       "3   AFRICAN  FEMALE     40-49            32  3.94±0.79   \n",
       "4   AFRICAN  FEMALE     50-59            18  3.99±0.73   \n",
       "5   AFRICAN  FEMALE      >=60             4  5.04±2.38   \n",
       "6   AFRICAN    MALE     <= 21            41  3.49±0.87   \n",
       "7   AFRICAN    MALE     21-30            56  3.50±1.02   \n",
       "8   AFRICAN    MALE     30-40            77  3.96±0.86   \n",
       "9   AFRICAN    MALE     40-50            60  4.98±0.98   \n",
       "10  AFRICAN    MALE     50-60            61  4.00±1.17   \n",
       "11  AFRICAN    MALE      >=61            24  6.11±2.18   \n",
       "12   INDIAN  FEMALE      <=20             2  2.25±1.06   \n",
       "13   INDIAN  FEMALE     21-40            20  3.44±1.00   \n",
       "14   INDIAN  FEMALE     41-60            15  5.11±2.46   \n",
       "15   INDIAN  FEMALE      >=60             9  5.58±2.31   \n",
       "16   INDIAN    MALE      <=21            12  2.93±0.60   \n",
       "17   INDIAN    MALE     21-41            13  4.09±1.49   \n",
       "18   INDIAN    MALE     41-61            14  5.68±2.10   \n",
       "19   INDIAN    MALE      >=61            15  7.21±2.18   \n",
       "\n",
       "    THIRD VENTRICULAR SIZE     ±  \n",
       "0                     3.51  0.78  \n",
       "1                     3.85  0.86  \n",
       "2                     3.92  0.77  \n",
       "3                     3.94  0.79  \n",
       "4                     3.99  0.73  \n",
       "5                     5.04  2.38  \n",
       "6                     3.49  0.87  \n",
       "7                     3.50  1.02  \n",
       "8                     3.96  0.86  \n",
       "9                     4.98  0.98  \n",
       "10                    4.00  1.17  \n",
       "11                    6.11  2.18  \n",
       "12                    2.25  1.06  \n",
       "13                    3.44  1.00  \n",
       "14                    5.11  2.46  \n",
       "15                    5.58  2.31  \n",
       "16                    2.93  0.60  \n",
       "17                    4.09  1.49  \n",
       "18                    5.68  2.10  \n",
       "19                    7.21  2.18  "
      ]
     },
     "execution_count": 6,
     "metadata": {},
     "output_type": "execute_result"
    }
   ],
   "source": [
    "#DISPLAY TABLE\n",
    "df"
   ]
  },
  {
   "cell_type": "code",
   "execution_count": 7,
   "metadata": {},
   "outputs": [
    {
     "data": {
      "text/plain": [
       "(20, 7)"
      ]
     },
     "execution_count": 7,
     "metadata": {},
     "output_type": "execute_result"
    }
   ],
   "source": [
    "df.shape"
   ]
  },
  {
   "cell_type": "code",
   "execution_count": 8,
   "metadata": {},
   "outputs": [
    {
     "name": "stdout",
     "output_type": "stream",
     "text": [
      "       PARTICIPANTS  THIRD VENTRICULAR SIZE          ±\n",
      "count      20.00000                20.00000  20.000000\n",
      "mean       29.40000                 4.32900   1.329500\n",
      "std        21.37485                 1.18094   0.660275\n",
      "min         2.00000                 2.25000   0.600000\n",
      "25%        13.75000                 3.50750   0.842500\n",
      "50%        22.00000                 3.97500   1.010000\n",
      "75%        41.75000                 5.05750   2.120000\n",
      "max        77.00000                 7.21000   2.460000\n"
     ]
    }
   ],
   "source": [
    "print(df.describe())"
   ]
  },
  {
   "cell_type": "code",
   "execution_count": 9,
   "metadata": {},
   "outputs": [
    {
     "data": {
      "text/plain": [
       "Index(['RACE', 'SEX', 'AGE RANGE', 'PARTICIPANTS', '3V SIZE',\n",
       "       'THIRD VENTRICULAR SIZE', '±'],\n",
       "      dtype='object')"
      ]
     },
     "execution_count": 9,
     "metadata": {},
     "output_type": "execute_result"
    }
   ],
   "source": [
    "df.columns"
   ]
  },
  {
   "cell_type": "code",
   "execution_count": 10,
   "metadata": {},
   "outputs": [
    {
     "data": {
      "text/plain": [
       "RACE\n",
       "AFRICAN    12\n",
       "INDIAN      8\n",
       "dtype: int64"
      ]
     },
     "execution_count": 10,
     "metadata": {},
     "output_type": "execute_result"
    }
   ],
   "source": [
    "df.groupby('RACE').size()"
   ]
  },
  {
   "cell_type": "code",
   "execution_count": 11,
   "metadata": {},
   "outputs": [
    {
     "data": {
      "text/plain": [
       "SEX\n",
       "FEMALE    10\n",
       "MALE      10\n",
       "dtype: int64"
      ]
     },
     "execution_count": 11,
     "metadata": {},
     "output_type": "execute_result"
    }
   ],
   "source": [
    "df.groupby('SEX').size()"
   ]
  },
  {
   "cell_type": "code",
   "execution_count": 12,
   "metadata": {},
   "outputs": [
    {
     "data": {
      "text/plain": [
       "RACE                      0\n",
       "SEX                       0\n",
       "AGE RANGE                 0\n",
       "PARTICIPANTS              0\n",
       "3V SIZE                   0\n",
       "THIRD VENTRICULAR SIZE    0\n",
       "±                         0\n",
       "dtype: int64"
      ]
     },
     "execution_count": 12,
     "metadata": {},
     "output_type": "execute_result"
    }
   ],
   "source": [
    "#CHECK FOR IS NULL VALUES\n",
    "df.isnull().sum()"
   ]
  },
  {
   "cell_type": "code",
   "execution_count": 13,
   "metadata": {},
   "outputs": [
    {
     "data": {
      "text/plain": [
       "<matplotlib.axes._subplots.AxesSubplot at 0x27037b6a1c8>"
      ]
     },
     "execution_count": 13,
     "metadata": {},
     "output_type": "execute_result"
    },
    {
     "data": {
      "image/png": "[encoded data removed]",
      "text/plain": [
       "<Figure size 432x288 with 2 Axes>"
      ]
     },
     "metadata": {
      "needs_background": "light"
     },
     "output_type": "display_data"
    }
   ],
   "source": [
    "sns.heatmap(df.isnull())"
   ]
  },
  {
   "cell_type": "code",
   "execution_count": 14,
   "metadata": {},
   "outputs": [],
   "source": [
    "#Heatmap to visually analyze data\n",
    "#sns.heatmap(df.isnull(),yticklables == False)"
   ]
  },
  {
   "cell_type": "raw",
   "metadata": {},
   "source": [
    "#DATA VISUALIZATION & EXPLORATION"
   ]
  },
  {
   "cell_type": "code",
   "execution_count": 15,
   "metadata": {},
   "outputs": [
    {
     "data": {
      "text/plain": [
       "<function matplotlib.pyplot.show(*args, **kw)>"
      ]
     },
     "execution_count": 15,
     "metadata": {},
     "output_type": "execute_result"
    },
    {
     "data": {
      "image/png": "[encoded data removed]",
      "text/plain": [
       "<Figure size 432x288 with 4 Axes>"
      ]
     },
     "metadata": {
      "needs_background": "light"
     },
     "output_type": "display_data"
    }
   ],
   "source": [
    "#HISTOGRAM OF THE DATASET\n",
    "df.hist()\n",
    "plt.show"
   ]
  },
  {
   "cell_type": "code",
   "execution_count": 16,
   "metadata": {},
   "outputs": [
    {
     "data": {
      "image/png": "[encoded data removed]",
      "text/plain": [
       "<Figure size 432x288 with 9 Axes>"
      ]
     },
     "metadata": {
      "needs_background": "light"
     },
     "output_type": "display_data"
    }
   ],
   "source": [
    "#SCATTER PLOT OF ALL THE ATTRIBUTES\n",
    "scatter_matrix(df)\n",
    "plt.show()"
   ]
  },
  {
   "cell_type": "code",
   "execution_count": 17,
   "metadata": {},
   "outputs": [
    {
     "data": {
      "text/plain": [
       "<matplotlib.axes._subplots.AxesSubplot at 0x2703b345bc8>"
      ]
     },
     "execution_count": 17,
     "metadata": {},
     "output_type": "execute_result"
    },
    {
     "data": {
      "image/png": "[encoded data removed]",
      "text/plain": [
       "<Figure size 432x288 with 1 Axes>"
      ]
     },
     "metadata": {
      "needs_background": "light"
     },
     "output_type": "display_data"
    }
   ],
   "source": [
    "#GRAPH COMPARING DIFFERENT RACE\n",
    "sns.countplot(x='RACE', data = df)"
   ]
  },
  {
   "cell_type": "code",
   "execution_count": 18,
   "metadata": {},
   "outputs": [
    {
     "data": {
      "text/plain": [
       "<matplotlib.axes._subplots.AxesSubplot at 0x2703b394c08>"
      ]
     },
     "execution_count": 18,
     "metadata": {},
     "output_type": "execute_result"
    },
    {
     "data": {
      "image/png": "[encoded data removed]",
      "text/plain": [
       "<Figure size 432x288 with 1 Axes>"
      ]
     },
     "metadata": {
      "needs_background": "light"
     },
     "output_type": "display_data"
    }
   ],
   "source": [
    "sns.countplot(x='SEX', data = df)"
   ]
  },
  {
   "cell_type": "code",
   "execution_count": 19,
   "metadata": {},
   "outputs": [
    {
     "data": {
      "text/plain": [
       "<matplotlib.axes._subplots.AxesSubplot at 0x2703b2e7f08>"
      ]
     },
     "execution_count": 19,
     "metadata": {},
     "output_type": "execute_result"
    },
    {
     "data": {
      "image/png": "[encoded data removed]",
      "text/plain": [
       "<Figure size 432x288 with 1 Axes>"
      ]
     },
     "metadata": {
      "needs_background": "light"
     },
     "output_type": "display_data"
    }
   ],
   "source": [
    "sns.countplot(x='THIRD VENTRICULAR SIZE', data = df)"
   ]
  },
  {
   "cell_type": "code",
   "execution_count": 20,
   "metadata": {},
   "outputs": [
    {
     "data": {
      "text/plain": [
       "<matplotlib.axes._subplots.AxesSubplot at 0x2703b023748>"
      ]
     },
     "execution_count": 20,
     "metadata": {},
     "output_type": "execute_result"
    },
    {
     "data": {
      "image/png": "[encoded data removed]",
      "text/plain": [
       "<Figure size 432x288 with 1 Axes>"
      ]
     },
     "metadata": {
      "needs_background": "light"
     },
     "output_type": "display_data"
    }
   ],
   "source": [
    "sns.countplot(x='RACE',hue = 'SEX', data = df)"
   ]
  },
  {
   "cell_type": "code",
   "execution_count": 21,
   "metadata": {},
   "outputs": [
    {
     "data": {
      "text/plain": [
       "<matplotlib.axes._subplots.AxesSubplot at 0x2703ae54848>"
      ]
     },
     "execution_count": 21,
     "metadata": {},
     "output_type": "execute_result"
    },
    {
     "data": {
      "image/png": "[encoded data removed]",
      "text/plain": [
       "<Figure size 432x288 with 1 Axes>"
      ]
     },
     "metadata": {
      "needs_background": "light"
     },
     "output_type": "display_data"
    }
   ],
   "source": [
    "sns.countplot(x='THIRD VENTRICULAR SIZE',hue='SEX' , data = df)"
   ]
  },
  {
   "cell_type": "code",
   "execution_count": 22,
   "metadata": {},
   "outputs": [
    {
     "data": {
      "text/plain": [
       "RACE\n",
       "AFRICAN    50.29\n",
       "INDIAN     36.29\n",
       "Name: THIRD VENTRICULAR SIZE, dtype: float64"
      ]
     },
     "execution_count": 22,
     "metadata": {},
     "output_type": "execute_result"
    }
   ],
   "source": [
    "d_race = df.groupby('RACE')\n",
    "d_race['THIRD VENTRICULAR SIZE'].sum()"
   ]
  },
  {
   "cell_type": "code",
   "execution_count": 23,
   "metadata": {},
   "outputs": [
    {
     "data": {
      "text/plain": [
       "SEX\n",
       "FEMALE    40.63\n",
       "MALE      45.95\n",
       "Name: THIRD VENTRICULAR SIZE, dtype: float64"
      ]
     },
     "execution_count": 23,
     "metadata": {},
     "output_type": "execute_result"
    }
   ],
   "source": [
    "d_sex = df.groupby('SEX')\n",
    "d_sex['THIRD VENTRICULAR SIZE'].sum()"
   ]
  },
  {
   "cell_type": "code",
   "execution_count": 24,
   "metadata": {},
   "outputs": [
    {
     "data": {
      "text/html": [
       "<div>\n",
       "<style scoped>\n",
       "    .dataframe tbody tr th:only-of-type {\n",
       "        vertical-align: middle;\n",
       "    }\n",
       "\n",
       "    .dataframe tbody tr th {\n",
       "        vertical-align: top;\n",
       "    }\n",
       "\n",
       "    .dataframe thead th {\n",
       "        text-align: right;\n",
       "    }\n",
       "</style>\n",
       "<table border=\"1\" class=\"dataframe\">\n",
       "  <thead>\n",
       "    <tr style=\"text-align: right;\">\n",
       "      <th></th>\n",
       "      <th>RACE</th>\n",
       "      <th>SEX</th>\n",
       "      <th>AGE RANGE</th>\n",
       "      <th>PARTICIPANTS</th>\n",
       "      <th>3V SIZE</th>\n",
       "      <th>THIRD VENTRICULAR SIZE</th>\n",
       "      <th>±</th>\n",
       "      <th>Sex</th>\n",
       "      <th>Race</th>\n",
       "    </tr>\n",
       "  </thead>\n",
       "  <tbody>\n",
       "    <tr>\n",
       "      <th>0</th>\n",
       "      <td>AFRICAN</td>\n",
       "      <td>FEMALE</td>\n",
       "      <td>&lt;= 20</td>\n",
       "      <td>30</td>\n",
       "      <td>3.51±0.78</td>\n",
       "      <td>3.51</td>\n",
       "      <td>0.78</td>\n",
       "      <td>1</td>\n",
       "      <td>1</td>\n",
       "    </tr>\n",
       "    <tr>\n",
       "      <th>1</th>\n",
       "      <td>AFRICAN</td>\n",
       "      <td>FEMALE</td>\n",
       "      <td>21-29</td>\n",
       "      <td>44</td>\n",
       "      <td>3.85±0.86</td>\n",
       "      <td>3.85</td>\n",
       "      <td>0.86</td>\n",
       "      <td>1</td>\n",
       "      <td>1</td>\n",
       "    </tr>\n",
       "    <tr>\n",
       "      <th>2</th>\n",
       "      <td>AFRICAN</td>\n",
       "      <td>FEMALE</td>\n",
       "      <td>30-39</td>\n",
       "      <td>41</td>\n",
       "      <td>3.92±0.77</td>\n",
       "      <td>3.92</td>\n",
       "      <td>0.77</td>\n",
       "      <td>1</td>\n",
       "      <td>1</td>\n",
       "    </tr>\n",
       "    <tr>\n",
       "      <th>3</th>\n",
       "      <td>AFRICAN</td>\n",
       "      <td>FEMALE</td>\n",
       "      <td>40-49</td>\n",
       "      <td>32</td>\n",
       "      <td>3.94±0.79</td>\n",
       "      <td>3.94</td>\n",
       "      <td>0.79</td>\n",
       "      <td>1</td>\n",
       "      <td>1</td>\n",
       "    </tr>\n",
       "    <tr>\n",
       "      <th>4</th>\n",
       "      <td>AFRICAN</td>\n",
       "      <td>FEMALE</td>\n",
       "      <td>50-59</td>\n",
       "      <td>18</td>\n",
       "      <td>3.99±0.73</td>\n",
       "      <td>3.99</td>\n",
       "      <td>0.73</td>\n",
       "      <td>1</td>\n",
       "      <td>1</td>\n",
       "    </tr>\n",
       "    <tr>\n",
       "      <th>5</th>\n",
       "      <td>AFRICAN</td>\n",
       "      <td>FEMALE</td>\n",
       "      <td>&gt;=60</td>\n",
       "      <td>4</td>\n",
       "      <td>5.04±2.38</td>\n",
       "      <td>5.04</td>\n",
       "      <td>2.38</td>\n",
       "      <td>1</td>\n",
       "      <td>1</td>\n",
       "    </tr>\n",
       "    <tr>\n",
       "      <th>6</th>\n",
       "      <td>AFRICAN</td>\n",
       "      <td>MALE</td>\n",
       "      <td>&lt;= 21</td>\n",
       "      <td>41</td>\n",
       "      <td>3.49±0.87</td>\n",
       "      <td>3.49</td>\n",
       "      <td>0.87</td>\n",
       "      <td>0</td>\n",
       "      <td>1</td>\n",
       "    </tr>\n",
       "    <tr>\n",
       "      <th>7</th>\n",
       "      <td>AFRICAN</td>\n",
       "      <td>MALE</td>\n",
       "      <td>21-30</td>\n",
       "      <td>56</td>\n",
       "      <td>3.50±1.02</td>\n",
       "      <td>3.50</td>\n",
       "      <td>1.02</td>\n",
       "      <td>0</td>\n",
       "      <td>1</td>\n",
       "    </tr>\n",
       "    <tr>\n",
       "      <th>8</th>\n",
       "      <td>AFRICAN</td>\n",
       "      <td>MALE</td>\n",
       "      <td>30-40</td>\n",
       "      <td>77</td>\n",
       "      <td>3.96±0.86</td>\n",
       "      <td>3.96</td>\n",
       "      <td>0.86</td>\n",
       "      <td>0</td>\n",
       "      <td>1</td>\n",
       "    </tr>\n",
       "    <tr>\n",
       "      <th>9</th>\n",
       "      <td>AFRICAN</td>\n",
       "      <td>MALE</td>\n",
       "      <td>40-50</td>\n",
       "      <td>60</td>\n",
       "      <td>4.98±0.98</td>\n",
       "      <td>4.98</td>\n",
       "      <td>0.98</td>\n",
       "      <td>0</td>\n",
       "      <td>1</td>\n",
       "    </tr>\n",
       "    <tr>\n",
       "      <th>10</th>\n",
       "      <td>AFRICAN</td>\n",
       "      <td>MALE</td>\n",
       "      <td>50-60</td>\n",
       "      <td>61</td>\n",
       "      <td>4.00±1.17</td>\n",
       "      <td>4.00</td>\n",
       "      <td>1.17</td>\n",
       "      <td>0</td>\n",
       "      <td>1</td>\n",
       "    </tr>\n",
       "    <tr>\n",
       "      <th>11</th>\n",
       "      <td>AFRICAN</td>\n",
       "      <td>MALE</td>\n",
       "      <td>&gt;=61</td>\n",
       "      <td>24</td>\n",
       "      <td>6.11±2.18</td>\n",
       "      <td>6.11</td>\n",
       "      <td>2.18</td>\n",
       "      <td>0</td>\n",
       "      <td>1</td>\n",
       "    </tr>\n",
       "    <tr>\n",
       "      <th>12</th>\n",
       "      <td>INDIAN</td>\n",
       "      <td>FEMALE</td>\n",
       "      <td>&lt;=20</td>\n",
       "      <td>2</td>\n",
       "      <td>2.25±1.06</td>\n",
       "      <td>2.25</td>\n",
       "      <td>1.06</td>\n",
       "      <td>1</td>\n",
       "      <td>0</td>\n",
       "    </tr>\n",
       "    <tr>\n",
       "      <th>13</th>\n",
       "      <td>INDIAN</td>\n",
       "      <td>FEMALE</td>\n",
       "      <td>21-40</td>\n",
       "      <td>20</td>\n",
       "      <td>3.44±1.00</td>\n",
       "      <td>3.44</td>\n",
       "      <td>1.00</td>\n",
       "      <td>1</td>\n",
       "      <td>0</td>\n",
       "    </tr>\n",
       "    <tr>\n",
       "      <th>14</th>\n",
       "      <td>INDIAN</td>\n",
       "      <td>FEMALE</td>\n",
       "      <td>41-60</td>\n",
       "      <td>15</td>\n",
       "      <td>5.11±2.46</td>\n",
       "      <td>5.11</td>\n",
       "      <td>2.46</td>\n",
       "      <td>1</td>\n",
       "      <td>0</td>\n",
       "    </tr>\n",
       "    <tr>\n",
       "      <th>15</th>\n",
       "      <td>INDIAN</td>\n",
       "      <td>FEMALE</td>\n",
       "      <td>&gt;=60</td>\n",
       "      <td>9</td>\n",
       "      <td>5.58±2.31</td>\n",
       "      <td>5.58</td>\n",
       "      <td>2.31</td>\n",
       "      <td>1</td>\n",
       "      <td>0</td>\n",
       "    </tr>\n",
       "    <tr>\n",
       "      <th>16</th>\n",
       "      <td>INDIAN</td>\n",
       "      <td>MALE</td>\n",
       "      <td>&lt;=21</td>\n",
       "      <td>12</td>\n",
       "      <td>2.93±0.60</td>\n",
       "      <td>2.93</td>\n",
       "      <td>0.60</td>\n",
       "      <td>0</td>\n",
       "      <td>0</td>\n",
       "    </tr>\n",
       "    <tr>\n",
       "      <th>17</th>\n",
       "      <td>INDIAN</td>\n",
       "      <td>MALE</td>\n",
       "      <td>21-41</td>\n",
       "      <td>13</td>\n",
       "      <td>4.09±1.49</td>\n",
       "      <td>4.09</td>\n",
       "      <td>1.49</td>\n",
       "      <td>0</td>\n",
       "      <td>0</td>\n",
       "    </tr>\n",
       "    <tr>\n",
       "      <th>18</th>\n",
       "      <td>INDIAN</td>\n",
       "      <td>MALE</td>\n",
       "      <td>41-61</td>\n",
       "      <td>14</td>\n",
       "      <td>5.68±2.10</td>\n",
       "      <td>5.68</td>\n",
       "      <td>2.10</td>\n",
       "      <td>0</td>\n",
       "      <td>0</td>\n",
       "    </tr>\n",
       "    <tr>\n",
       "      <th>19</th>\n",
       "      <td>INDIAN</td>\n",
       "      <td>MALE</td>\n",
       "      <td>&gt;=61</td>\n",
       "      <td>15</td>\n",
       "      <td>7.21±2.18</td>\n",
       "      <td>7.21</td>\n",
       "      <td>2.18</td>\n",
       "      <td>0</td>\n",
       "      <td>0</td>\n",
       "    </tr>\n",
       "  </tbody>\n",
       "</table>\n",
       "</div>"
      ],
      "text/plain": [
       "       RACE     SEX AGE RANGE  PARTICIPANTS    3V SIZE  \\\n",
       "0   AFRICAN  FEMALE     <= 20            30  3.51±0.78   \n",
       "1   AFRICAN  FEMALE     21-29            44  3.85±0.86   \n",
       "2   AFRICAN  FEMALE     30-39            41  3.92±0.77   \n",
       "3   AFRICAN  FEMALE     40-49            32  3.94±0.79   \n",
       "4   AFRICAN  FEMALE     50-59            18  3.99±0.73   \n",
       "5   AFRICAN  FEMALE      >=60             4  5.04±2.38   \n",
       "6   AFRICAN    MALE     <= 21            41  3.49±0.87   \n",
       "7   AFRICAN    MALE     21-30            56  3.50±1.02   \n",
       "8   AFRICAN    MALE     30-40            77  3.96±0.86   \n",
       "9   AFRICAN    MALE     40-50            60  4.98±0.98   \n",
       "10  AFRICAN    MALE     50-60            61  4.00±1.17   \n",
       "11  AFRICAN    MALE      >=61            24  6.11±2.18   \n",
       "12   INDIAN  FEMALE      <=20             2  2.25±1.06   \n",
       "13   INDIAN  FEMALE     21-40            20  3.44±1.00   \n",
       "14   INDIAN  FEMALE     41-60            15  5.11±2.46   \n",
       "15   INDIAN  FEMALE      >=60             9  5.58±2.31   \n",
       "16   INDIAN    MALE      <=21            12  2.93±0.60   \n",
       "17   INDIAN    MALE     21-41            13  4.09±1.49   \n",
       "18   INDIAN    MALE     41-61            14  5.68±2.10   \n",
       "19   INDIAN    MALE      >=61            15  7.21±2.18   \n",
       "\n",
       "    THIRD VENTRICULAR SIZE     ±  Sex  Race  \n",
       "0                     3.51  0.78    1     1  \n",
       "1                     3.85  0.86    1     1  \n",
       "2                     3.92  0.77    1     1  \n",
       "3                     3.94  0.79    1     1  \n",
       "4                     3.99  0.73    1     1  \n",
       "5                     5.04  2.38    1     1  \n",
       "6                     3.49  0.87    0     1  \n",
       "7                     3.50  1.02    0     1  \n",
       "8                     3.96  0.86    0     1  \n",
       "9                     4.98  0.98    0     1  \n",
       "10                    4.00  1.17    0     1  \n",
       "11                    6.11  2.18    0     1  \n",
       "12                    2.25  1.06    1     0  \n",
       "13                    3.44  1.00    1     0  \n",
       "14                    5.11  2.46    1     0  \n",
       "15                    5.58  2.31    1     0  \n",
       "16                    2.93  0.60    0     0  \n",
       "17                    4.09  1.49    0     0  \n",
       "18                    5.68  2.10    0     0  \n",
       "19                    7.21  2.18    0     0  "
      ]
     },
     "execution_count": 24,
     "metadata": {},
     "output_type": "execute_result"
    }
   ],
   "source": [
    "#TRANSFORM SEX\n",
    "def transformSEX(row):\n",
    "    if(row.SEX == 'FEMALE'):\n",
    "        return 1\n",
    "    else:\n",
    "        return 0\n",
    "    \n",
    "#TRANSFORM RACE\n",
    "def transformRACE(row):\n",
    "    if(row.RACE == 'AFRICAN'):\n",
    "        return 1\n",
    "    else:\n",
    "        return 0\n",
    "\n",
    "#BOTH SEX AND RACE HAS BEEN REPLACED BY T-SEX AND T-RACE   \n",
    "df[\"Sex\"] = df.apply(lambda row: transformSEX(row),axis=1)\n",
    "df[\"Race\"] = df.apply(lambda row: transformRACE(row),axis=1)\n",
    "\n",
    "#AVARAGE 3RD VENTRICULAR PARAMETER\n",
    "#df['VENTRICULAR PARAMETER '] =  ((df['MIN 3V SIZE']+df['MAX 3V SIZE'])/2)\n",
    "\n",
    "#DISPLAY TABLE\n",
    "df"
   ]
  },
  {
   "cell_type": "code",
   "execution_count": 25,
   "metadata": {},
   "outputs": [
    {
     "name": "stdout",
     "output_type": "stream",
     "text": [
      "       PARTICIPANTS  THIRD VENTRICULAR SIZE          ±        Sex       Race\n",
      "count      20.00000                20.00000  20.000000  20.000000  20.000000\n",
      "mean       29.40000                 4.32900   1.329500   0.500000   0.600000\n",
      "std        21.37485                 1.18094   0.660275   0.512989   0.502625\n",
      "min         2.00000                 2.25000   0.600000   0.000000   0.000000\n",
      "25%        13.75000                 3.50750   0.842500   0.000000   0.000000\n",
      "50%        22.00000                 3.97500   1.010000   0.500000   1.000000\n",
      "75%        41.75000                 5.05750   2.120000   1.000000   1.000000\n",
      "max        77.00000                 7.21000   2.460000   1.000000   1.000000\n"
     ]
    }
   ],
   "source": [
    "print(df.describe())"
   ]
  },
  {
   "cell_type": "code",
   "execution_count": 26,
   "metadata": {},
   "outputs": [],
   "source": [
    "#DROP SEX,RACE,MIN 3V SIZE AND MAX 3V SIZE \n",
    "df = df.drop(['RACE','SEX'], axis = 1)"
   ]
  },
  {
   "cell_type": "code",
   "execution_count": 27,
   "metadata": {},
   "outputs": [
    {
     "data": {
      "text/html": [
       "<div>\n",
       "<style scoped>\n",
       "    .dataframe tbody tr th:only-of-type {\n",
       "        vertical-align: middle;\n",
       "    }\n",
       "\n",
       "    .dataframe tbody tr th {\n",
       "        vertical-align: top;\n",
       "    }\n",
       "\n",
       "    .dataframe thead th {\n",
       "        text-align: right;\n",
       "    }\n",
       "</style>\n",
       "<table border=\"1\" class=\"dataframe\">\n",
       "  <thead>\n",
       "    <tr style=\"text-align: right;\">\n",
       "      <th></th>\n",
       "      <th>AGE RANGE</th>\n",
       "      <th>PARTICIPANTS</th>\n",
       "      <th>3V SIZE</th>\n",
       "      <th>THIRD VENTRICULAR SIZE</th>\n",
       "      <th>±</th>\n",
       "      <th>Sex</th>\n",
       "      <th>Race</th>\n",
       "    </tr>\n",
       "  </thead>\n",
       "  <tbody>\n",
       "    <tr>\n",
       "      <th>0</th>\n",
       "      <td>&lt;= 20</td>\n",
       "      <td>30</td>\n",
       "      <td>3.51±0.78</td>\n",
       "      <td>3.51</td>\n",
       "      <td>0.78</td>\n",
       "      <td>1</td>\n",
       "      <td>1</td>\n",
       "    </tr>\n",
       "    <tr>\n",
       "      <th>1</th>\n",
       "      <td>21-29</td>\n",
       "      <td>44</td>\n",
       "      <td>3.85±0.86</td>\n",
       "      <td>3.85</td>\n",
       "      <td>0.86</td>\n",
       "      <td>1</td>\n",
       "      <td>1</td>\n",
       "    </tr>\n",
       "    <tr>\n",
       "      <th>2</th>\n",
       "      <td>30-39</td>\n",
       "      <td>41</td>\n",
       "      <td>3.92±0.77</td>\n",
       "      <td>3.92</td>\n",
       "      <td>0.77</td>\n",
       "      <td>1</td>\n",
       "      <td>1</td>\n",
       "    </tr>\n",
       "    <tr>\n",
       "      <th>3</th>\n",
       "      <td>40-49</td>\n",
       "      <td>32</td>\n",
       "      <td>3.94±0.79</td>\n",
       "      <td>3.94</td>\n",
       "      <td>0.79</td>\n",
       "      <td>1</td>\n",
       "      <td>1</td>\n",
       "    </tr>\n",
       "    <tr>\n",
       "      <th>4</th>\n",
       "      <td>50-59</td>\n",
       "      <td>18</td>\n",
       "      <td>3.99±0.73</td>\n",
       "      <td>3.99</td>\n",
       "      <td>0.73</td>\n",
       "      <td>1</td>\n",
       "      <td>1</td>\n",
       "    </tr>\n",
       "    <tr>\n",
       "      <th>5</th>\n",
       "      <td>&gt;=60</td>\n",
       "      <td>4</td>\n",
       "      <td>5.04±2.38</td>\n",
       "      <td>5.04</td>\n",
       "      <td>2.38</td>\n",
       "      <td>1</td>\n",
       "      <td>1</td>\n",
       "    </tr>\n",
       "    <tr>\n",
       "      <th>6</th>\n",
       "      <td>&lt;= 21</td>\n",
       "      <td>41</td>\n",
       "      <td>3.49±0.87</td>\n",
       "      <td>3.49</td>\n",
       "      <td>0.87</td>\n",
       "      <td>0</td>\n",
       "      <td>1</td>\n",
       "    </tr>\n",
       "    <tr>\n",
       "      <th>7</th>\n",
       "      <td>21-30</td>\n",
       "      <td>56</td>\n",
       "      <td>3.50±1.02</td>\n",
       "      <td>3.50</td>\n",
       "      <td>1.02</td>\n",
       "      <td>0</td>\n",
       "      <td>1</td>\n",
       "    </tr>\n",
       "    <tr>\n",
       "      <th>8</th>\n",
       "      <td>30-40</td>\n",
       "      <td>77</td>\n",
       "      <td>3.96±0.86</td>\n",
       "      <td>3.96</td>\n",
       "      <td>0.86</td>\n",
       "      <td>0</td>\n",
       "      <td>1</td>\n",
       "    </tr>\n",
       "    <tr>\n",
       "      <th>9</th>\n",
       "      <td>40-50</td>\n",
       "      <td>60</td>\n",
       "      <td>4.98±0.98</td>\n",
       "      <td>4.98</td>\n",
       "      <td>0.98</td>\n",
       "      <td>0</td>\n",
       "      <td>1</td>\n",
       "    </tr>\n",
       "    <tr>\n",
       "      <th>10</th>\n",
       "      <td>50-60</td>\n",
       "      <td>61</td>\n",
       "      <td>4.00±1.17</td>\n",
       "      <td>4.00</td>\n",
       "      <td>1.17</td>\n",
       "      <td>0</td>\n",
       "      <td>1</td>\n",
       "    </tr>\n",
       "    <tr>\n",
       "      <th>11</th>\n",
       "      <td>&gt;=61</td>\n",
       "      <td>24</td>\n",
       "      <td>6.11±2.18</td>\n",
       "      <td>6.11</td>\n",
       "      <td>2.18</td>\n",
       "      <td>0</td>\n",
       "      <td>1</td>\n",
       "    </tr>\n",
       "    <tr>\n",
       "      <th>12</th>\n",
       "      <td>&lt;=20</td>\n",
       "      <td>2</td>\n",
       "      <td>2.25±1.06</td>\n",
       "      <td>2.25</td>\n",
       "      <td>1.06</td>\n",
       "      <td>1</td>\n",
       "      <td>0</td>\n",
       "    </tr>\n",
       "    <tr>\n",
       "      <th>13</th>\n",
       "      <td>21-40</td>\n",
       "      <td>20</td>\n",
       "      <td>3.44±1.00</td>\n",
       "      <td>3.44</td>\n",
       "      <td>1.00</td>\n",
       "      <td>1</td>\n",
       "      <td>0</td>\n",
       "    </tr>\n",
       "    <tr>\n",
       "      <th>14</th>\n",
       "      <td>41-60</td>\n",
       "      <td>15</td>\n",
       "      <td>5.11±2.46</td>\n",
       "      <td>5.11</td>\n",
       "      <td>2.46</td>\n",
       "      <td>1</td>\n",
       "      <td>0</td>\n",
       "    </tr>\n",
       "    <tr>\n",
       "      <th>15</th>\n",
       "      <td>&gt;=60</td>\n",
       "      <td>9</td>\n",
       "      <td>5.58±2.31</td>\n",
       "      <td>5.58</td>\n",
       "      <td>2.31</td>\n",
       "      <td>1</td>\n",
       "      <td>0</td>\n",
       "    </tr>\n",
       "    <tr>\n",
       "      <th>16</th>\n",
       "      <td>&lt;=21</td>\n",
       "      <td>12</td>\n",
       "      <td>2.93±0.60</td>\n",
       "      <td>2.93</td>\n",
       "      <td>0.60</td>\n",
       "      <td>0</td>\n",
       "      <td>0</td>\n",
       "    </tr>\n",
       "    <tr>\n",
       "      <th>17</th>\n",
       "      <td>21-41</td>\n",
       "      <td>13</td>\n",
       "      <td>4.09±1.49</td>\n",
       "      <td>4.09</td>\n",
       "      <td>1.49</td>\n",
       "      <td>0</td>\n",
       "      <td>0</td>\n",
       "    </tr>\n",
       "    <tr>\n",
       "      <th>18</th>\n",
       "      <td>41-61</td>\n",
       "      <td>14</td>\n",
       "      <td>5.68±2.10</td>\n",
       "      <td>5.68</td>\n",
       "      <td>2.10</td>\n",
       "      <td>0</td>\n",
       "      <td>0</td>\n",
       "    </tr>\n",
       "    <tr>\n",
       "      <th>19</th>\n",
       "      <td>&gt;=61</td>\n",
       "      <td>15</td>\n",
       "      <td>7.21±2.18</td>\n",
       "      <td>7.21</td>\n",
       "      <td>2.18</td>\n",
       "      <td>0</td>\n",
       "      <td>0</td>\n",
       "    </tr>\n",
       "  </tbody>\n",
       "</table>\n",
       "</div>"
      ],
      "text/plain": [
       "   AGE RANGE  PARTICIPANTS    3V SIZE  THIRD VENTRICULAR SIZE     ±  Sex  Race\n",
       "0      <= 20            30  3.51±0.78                    3.51  0.78    1     1\n",
       "1      21-29            44  3.85±0.86                    3.85  0.86    1     1\n",
       "2      30-39            41  3.92±0.77                    3.92  0.77    1     1\n",
       "3      40-49            32  3.94±0.79                    3.94  0.79    1     1\n",
       "4      50-59            18  3.99±0.73                    3.99  0.73    1     1\n",
       "5       >=60             4  5.04±2.38                    5.04  2.38    1     1\n",
       "6      <= 21            41  3.49±0.87                    3.49  0.87    0     1\n",
       "7      21-30            56  3.50±1.02                    3.50  1.02    0     1\n",
       "8      30-40            77  3.96±0.86                    3.96  0.86    0     1\n",
       "9      40-50            60  4.98±0.98                    4.98  0.98    0     1\n",
       "10     50-60            61  4.00±1.17                    4.00  1.17    0     1\n",
       "11      >=61            24  6.11±2.18                    6.11  2.18    0     1\n",
       "12      <=20             2  2.25±1.06                    2.25  1.06    1     0\n",
       "13     21-40            20  3.44±1.00                    3.44  1.00    1     0\n",
       "14     41-60            15  5.11±2.46                    5.11  2.46    1     0\n",
       "15      >=60             9  5.58±2.31                    5.58  2.31    1     0\n",
       "16      <=21            12  2.93±0.60                    2.93  0.60    0     0\n",
       "17     21-41            13  4.09±1.49                    4.09  1.49    0     0\n",
       "18     41-61            14  5.68±2.10                    5.68  2.10    0     0\n",
       "19      >=61            15  7.21±2.18                    7.21  2.18    0     0"
      ]
     },
     "execution_count": 27,
     "metadata": {},
     "output_type": "execute_result"
    }
   ],
   "source": [
    "df"
   ]
  },
  {
   "cell_type": "code",
   "execution_count": 28,
   "metadata": {},
   "outputs": [
    {
     "data": {
      "text/plain": [
       "<matplotlib.axes._subplots.AxesSubplot at 0x2703af77e08>"
      ]
     },
     "execution_count": 28,
     "metadata": {},
     "output_type": "execute_result"
    },
    {
     "data": {
      "image/png": "[encoded data removed]",
      "text/plain": [
       "<Figure size 432x288 with 1 Axes>"
      ]
     },
     "metadata": {
      "needs_background": "light"
     },
     "output_type": "display_data"
    }
   ],
   "source": [
    "df['Race'].plot.hist()"
   ]
  },
  {
   "cell_type": "code",
   "execution_count": 29,
   "metadata": {},
   "outputs": [
    {
     "data": {
      "text/plain": [
       "<matplotlib.axes._subplots.AxesSubplot at 0x2703af13f88>"
      ]
     },
     "execution_count": 29,
     "metadata": {},
     "output_type": "execute_result"
    },
    {
     "data": {
      "image/png": "[encoded data removed]",
      "text/plain": [
       "<Figure size 432x288 with 1 Axes>"
      ]
     },
     "metadata": {
      "needs_background": "light"
     },
     "output_type": "display_data"
    }
   ],
   "source": [
    "df['Sex'].plot.hist()"
   ]
  },
  {
   "cell_type": "code",
   "execution_count": 30,
   "metadata": {},
   "outputs": [
    {
     "data": {
      "text/plain": [
       "<matplotlib.axes._subplots.AxesSubplot at 0x2703b1a5d88>"
      ]
     },
     "execution_count": 30,
     "metadata": {},
     "output_type": "execute_result"
    },
    {
     "data": {
      "image/png": "[encoded data removed]",
      "text/plain": [
       "<Figure size 432x288 with 1 Axes>"
      ]
     },
     "metadata": {
      "needs_background": "light"
     },
     "output_type": "display_data"
    }
   ],
   "source": [
    "df['THIRD VENTRICULAR SIZE'].plot.hist()"
   ]
  },
  {
   "cell_type": "code",
   "execution_count": 31,
   "metadata": {},
   "outputs": [
    {
     "data": {
      "text/plain": [
       "<matplotlib.axes._subplots.AxesSubplot at 0x2703b087c08>"
      ]
     },
     "execution_count": 31,
     "metadata": {},
     "output_type": "execute_result"
    },
    {
     "data": {
      "image/png": "[encoded data removed]",
      "text/plain": [
       "<Figure size 432x288 with 1 Axes>"
      ]
     },
     "metadata": {
      "needs_background": "light"
     },
     "output_type": "display_data"
    }
   ],
   "source": [
    "#boxplot\n",
    "sns.boxplot(x='Race', y= 'THIRD VENTRICULAR SIZE', data = df)"
   ]
  },
  {
   "cell_type": "code",
   "execution_count": 32,
   "metadata": {},
   "outputs": [
    {
     "data": {
      "image/png": "[encoded data removed]",
      "text/plain": [
       "<Figure size 432x288 with 25 Axes>"
      ]
     },
     "metadata": {
      "needs_background": "light"
     },
     "output_type": "display_data"
    }
   ],
   "source": [
    "#SCATTER PLOT OF ALL THE ATTRIBUTES\n",
    "scatter_matrix(df)\n",
    "plt.show()"
   ]
  },
  {
   "cell_type": "code",
   "execution_count": 33,
   "metadata": {},
   "outputs": [
    {
     "data": {
      "text/html": [
       "<div>\n",
       "<style scoped>\n",
       "    .dataframe tbody tr th:only-of-type {\n",
       "        vertical-align: middle;\n",
       "    }\n",
       "\n",
       "    .dataframe tbody tr th {\n",
       "        vertical-align: top;\n",
       "    }\n",
       "\n",
       "    .dataframe thead th {\n",
       "        text-align: right;\n",
       "    }\n",
       "</style>\n",
       "<table border=\"1\" class=\"dataframe\">\n",
       "  <thead>\n",
       "    <tr style=\"text-align: right;\">\n",
       "      <th></th>\n",
       "      <th>THIRD VENTRICULAR SIZE</th>\n",
       "      <th>Sex</th>\n",
       "      <th>Race</th>\n",
       "    </tr>\n",
       "  </thead>\n",
       "  <tbody>\n",
       "    <tr>\n",
       "      <th>0</th>\n",
       "      <td>3.51</td>\n",
       "      <td>1</td>\n",
       "      <td>1</td>\n",
       "    </tr>\n",
       "    <tr>\n",
       "      <th>1</th>\n",
       "      <td>3.85</td>\n",
       "      <td>1</td>\n",
       "      <td>1</td>\n",
       "    </tr>\n",
       "    <tr>\n",
       "      <th>2</th>\n",
       "      <td>3.92</td>\n",
       "      <td>1</td>\n",
       "      <td>1</td>\n",
       "    </tr>\n",
       "    <tr>\n",
       "      <th>3</th>\n",
       "      <td>3.94</td>\n",
       "      <td>1</td>\n",
       "      <td>1</td>\n",
       "    </tr>\n",
       "    <tr>\n",
       "      <th>4</th>\n",
       "      <td>3.99</td>\n",
       "      <td>1</td>\n",
       "      <td>1</td>\n",
       "    </tr>\n",
       "    <tr>\n",
       "      <th>5</th>\n",
       "      <td>5.04</td>\n",
       "      <td>1</td>\n",
       "      <td>1</td>\n",
       "    </tr>\n",
       "    <tr>\n",
       "      <th>6</th>\n",
       "      <td>3.49</td>\n",
       "      <td>0</td>\n",
       "      <td>1</td>\n",
       "    </tr>\n",
       "    <tr>\n",
       "      <th>7</th>\n",
       "      <td>3.50</td>\n",
       "      <td>0</td>\n",
       "      <td>1</td>\n",
       "    </tr>\n",
       "    <tr>\n",
       "      <th>8</th>\n",
       "      <td>3.96</td>\n",
       "      <td>0</td>\n",
       "      <td>1</td>\n",
       "    </tr>\n",
       "    <tr>\n",
       "      <th>9</th>\n",
       "      <td>4.98</td>\n",
       "      <td>0</td>\n",
       "      <td>1</td>\n",
       "    </tr>\n",
       "    <tr>\n",
       "      <th>10</th>\n",
       "      <td>4.00</td>\n",
       "      <td>0</td>\n",
       "      <td>1</td>\n",
       "    </tr>\n",
       "    <tr>\n",
       "      <th>11</th>\n",
       "      <td>6.11</td>\n",
       "      <td>0</td>\n",
       "      <td>1</td>\n",
       "    </tr>\n",
       "    <tr>\n",
       "      <th>12</th>\n",
       "      <td>2.25</td>\n",
       "      <td>1</td>\n",
       "      <td>0</td>\n",
       "    </tr>\n",
       "    <tr>\n",
       "      <th>13</th>\n",
       "      <td>3.44</td>\n",
       "      <td>1</td>\n",
       "      <td>0</td>\n",
       "    </tr>\n",
       "    <tr>\n",
       "      <th>14</th>\n",
       "      <td>5.11</td>\n",
       "      <td>1</td>\n",
       "      <td>0</td>\n",
       "    </tr>\n",
       "    <tr>\n",
       "      <th>15</th>\n",
       "      <td>5.58</td>\n",
       "      <td>1</td>\n",
       "      <td>0</td>\n",
       "    </tr>\n",
       "    <tr>\n",
       "      <th>16</th>\n",
       "      <td>2.93</td>\n",
       "      <td>0</td>\n",
       "      <td>0</td>\n",
       "    </tr>\n",
       "    <tr>\n",
       "      <th>17</th>\n",
       "      <td>4.09</td>\n",
       "      <td>0</td>\n",
       "      <td>0</td>\n",
       "    </tr>\n",
       "    <tr>\n",
       "      <th>18</th>\n",
       "      <td>5.68</td>\n",
       "      <td>0</td>\n",
       "      <td>0</td>\n",
       "    </tr>\n",
       "    <tr>\n",
       "      <th>19</th>\n",
       "      <td>7.21</td>\n",
       "      <td>0</td>\n",
       "      <td>0</td>\n",
       "    </tr>\n",
       "  </tbody>\n",
       "</table>\n",
       "</div>"
      ],
      "text/plain": [
       "    THIRD VENTRICULAR SIZE  Sex  Race\n",
       "0                     3.51    1     1\n",
       "1                     3.85    1     1\n",
       "2                     3.92    1     1\n",
       "3                     3.94    1     1\n",
       "4                     3.99    1     1\n",
       "5                     5.04    1     1\n",
       "6                     3.49    0     1\n",
       "7                     3.50    0     1\n",
       "8                     3.96    0     1\n",
       "9                     4.98    0     1\n",
       "10                    4.00    0     1\n",
       "11                    6.11    0     1\n",
       "12                    2.25    1     0\n",
       "13                    3.44    1     0\n",
       "14                    5.11    1     0\n",
       "15                    5.58    1     0\n",
       "16                    2.93    0     0\n",
       "17                    4.09    0     0\n",
       "18                    5.68    0     0\n",
       "19                    7.21    0     0"
      ]
     },
     "execution_count": 33,
     "metadata": {},
     "output_type": "execute_result"
    }
   ],
   "source": [
    "df.drop(['AGE RANGE','PARTICIPANTS', '3V SIZE', '±'], inplace = True, axis = 1) \n",
    "df"
   ]
  },
  {
   "cell_type": "raw",
   "metadata": {},
   "source": [
    "#TRAIN DATA"
   ]
  },
  {
   "cell_type": "code",
   "execution_count": 34,
   "metadata": {},
   "outputs": [],
   "source": [
    "#INDEPENDENT VARAIBLE\n",
    "X = df.drop('Race',axis = 1)\n",
    "\n",
    "#DEPENDENT VARIABLE\n",
    "y = df['Race']"
   ]
  },
  {
   "cell_type": "code",
   "execution_count": 37,
   "metadata": {},
   "outputs": [
    {
     "data": {
      "text/plain": [
       "LogisticRegression()"
      ]
     },
     "execution_count": 37,
     "metadata": {},
     "output_type": "execute_result"
    }
   ],
   "source": [
    "#IMPORT LIBRARIES\n",
    "from sklearn.model_selection import train_test_split\n",
    "\n",
    "from sklearn.preprocessing import StandardScaler\n",
    "from sklearn.linear_model import LogisticRegression\n",
    "\n",
    "#SPLIT DATA INTO TRAINING AND TESTING DATASET\n",
    "X_train, X_test, y_train, y_test = train_test_split(X, y, test_size=0.3, random_state=100)\n",
    "\n",
    "#SCALING THE DATA\n",
    "sc = StandardScaler()\n",
    "X_train = sc.fit_transform(X_train)\n",
    "X_test = sc.fit_transform(X_test)\n",
    "\n",
    "\n",
    "model = LogisticRegression()\n",
    "model.fit(X_train,y_train)"
   ]
  },
  {
   "cell_type": "code",
   "execution_count": null,
   "metadata": {},
   "outputs": [],
   "source": []
  },
  {
   "cell_type": "code",
   "execution_count": null,
   "metadata": {},
   "outputs": [],
   "source": []
  },
  {
   "cell_type": "code",
   "execution_count": 38,
   "metadata": {},
   "outputs": [
    {
     "data": {
      "text/plain": [
       "array([1, 1, 1, 1, 1, 1], dtype=int64)"
      ]
     },
     "execution_count": 38,
     "metadata": {},
     "output_type": "execute_result"
    }
   ],
   "source": [
    "Output = model.predict(X_test)\n",
    "Output"
   ]
  },
  {
   "cell_type": "code",
   "execution_count": 39,
   "metadata": {},
   "outputs": [
    {
     "name": "stdout",
     "output_type": "stream",
     "text": [
      "0.3333333333333333\n"
     ]
    }
   ],
   "source": [
    "#ACCURACY OR Measuring Model Performance\n",
    "# Use score method to get accuracy of model\n",
    "score = model.score(X_test, y_test)\n",
    "print(score)"
   ]
  },
  {
   "cell_type": "code",
   "execution_count": 40,
   "metadata": {},
   "outputs": [
    {
     "name": "stdout",
     "output_type": "stream",
     "text": [
      "[[0 4]\n",
      " [0 2]]\n"
     ]
    }
   ],
   "source": [
    "from sklearn import metrics\n",
    "cm = metrics.confusion_matrix(y_test, Output)\n",
    "print(cm)"
   ]
  },
  {
   "cell_type": "code",
   "execution_count": 41,
   "metadata": {},
   "outputs": [
    {
     "name": "stdout",
     "output_type": "stream",
     "text": [
      "Enter size of the 3rd ventricular parameter: 3.2\n",
      "Enter the sex: 1\n",
      "Person is an AFRICAN\n"
     ]
    }
   ],
   "source": [
    "# MODEL FOR PREDICTIONS\n",
    "THIRD_VENTRICULAR_SIZE = float(input('Enter size of the 3rd ventricular parameter: '))\n",
    "SEX = int(input('Enter the sex: '))\n",
    "RACE_PREDICT = model.predict([[THIRD_VENTRICULAR_SIZE,SEX]])\n",
    "if(RACE_PREDICT == 0):\n",
    "    print('Person is an INDIAN')\n",
    "else:\n",
    "    print('Person is an AFRICAN')"
   ]
  },
  {
   "cell_type": "code",
   "execution_count": null,
   "metadata": {},
   "outputs": [],
   "source": []
  },
  {
   "cell_type": "code",
   "execution_count": null,
   "metadata": {},
   "outputs": [],
   "source": []
  }
 ],
 "metadata": {
  "kernelspec": {
   "display_name": "Python 3",
   "language": "python",
   "name": "python3"
  },
  "language_info": {
   "codemirror_mode": {
    "name": "ipython",
    "version": 3
   },
   "file_extension": ".py",
   "mimetype": "text/x-python",
   "name": "python",
   "nbconvert_exporter": "python",
   "pygments_lexer": "ipython3",
   "version": "3.7.6"
  }
 },
 "nbformat": 4,
 "nbformat_minor": 4
}
